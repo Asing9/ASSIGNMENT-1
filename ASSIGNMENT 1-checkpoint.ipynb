{
 "cells": [
  {
   "cell_type": "markdown",
   "id": "37fa23ca",
   "metadata": {},
   "source": [
    "1. In the below elements which of them are values or an expression? eg:- values can be\n",
    "integer or string and expressions will be mathematical operators.\n",
    "*\n",
    "&#39;hello&#39;\n",
    "-87.8\n",
    "-\n",
    "/\n",
    "+\n",
    "6"
   ]
  },
  {
   "cell_type": "code",
   "execution_count": 30,
   "id": "fe4577ec",
   "metadata": {},
   "outputs": [],
   "source": [
    "l = ['*', 'hello' , -87.8 , '-' , '/' , '+' , 6]"
   ]
  },
  {
   "cell_type": "code",
   "execution_count": 31,
   "id": "58a70ce6",
   "metadata": {},
   "outputs": [
    {
     "name": "stdout",
     "output_type": "stream",
     "text": [
      "-87.8\n",
      "6\n"
     ]
    }
   ],
   "source": [
    "import math\n",
    "for i in l:\n",
    "    if type (i)== int or type(i)== float :\n",
    "        print (i)"
   ]
  },
  {
   "cell_type": "markdown",
   "id": "d1f11d59",
   "metadata": {},
   "source": [
    "2. What is the difference between string and variable?"
   ]
  },
  {
   "cell_type": "markdown",
   "id": "1e147779",
   "metadata": {},
   "source": [
    "String = string is data type which is store character value \n",
    "variable= variable is some letter or we can assing any name which can store assigned data"
   ]
  },
  {
   "cell_type": "markdown",
   "id": "629f4d53",
   "metadata": {},
   "source": [
    "    \n",
    "    "
   ]
  },
  {
   "cell_type": "markdown",
   "id": "6ad11433",
   "metadata": {},
   "source": [
    "3. Describe three different data types."
   ]
  },
  {
   "cell_type": "markdown",
   "id": "d509238d",
   "metadata": {},
   "source": [
    "INT  = int data type store value of integer (numeric value)\n",
    "float = float data type store value of decimal value (ex = 5.5)\n",
    "string = str data type store character value (ex = 'hello')"
   ]
  },
  {
   "cell_type": "markdown",
   "id": "e449446d",
   "metadata": {},
   "source": [
    "4. What is an expression made up of? What do all expressions do?"
   ]
  },
  {
   "cell_type": "markdown",
   "id": "f5abe00d",
   "metadata": {},
   "source": [
    "Expression is made of intger values, operators, variables "
   ]
  },
  {
   "cell_type": "markdown",
   "id": "a542b5a3",
   "metadata": {},
   "source": [
    "5. This assignment statements, like spam = 10. What is the difference between an\n",
    "expression and a statement?"
   ]
  },
  {
   "cell_type": "code",
   "execution_count": null,
   "id": "efb837ca",
   "metadata": {},
   "outputs": [],
   "source": [
    "assignment statement=  we assing a value in any variables through assignment operator.\n",
    "and in expression it do all mathematical operations (+,-,/,*) "
   ]
  },
  {
   "cell_type": "markdown",
   "id": "cc318068",
   "metadata": {},
   "source": [
    "6. After running the following code, what does the variable bacon contain?\n",
    "bacon = 22\n",
    "bacon + 1"
   ]
  },
  {
   "cell_type": "code",
   "execution_count": 34,
   "id": "fcf3e525",
   "metadata": {},
   "outputs": [
    {
     "data": {
      "text/plain": [
       "23"
      ]
     },
     "execution_count": 34,
     "metadata": {},
     "output_type": "execute_result"
    }
   ],
   "source": [
    "bacon = 22\n",
    "bacon + 1"
   ]
  },
  {
   "cell_type": "code",
   "execution_count": null,
   "id": "4aac7102",
   "metadata": {},
   "outputs": [],
   "source": [
    "7. What should the values of the following two terms be?\n",
    "'spam' + 'spamspam'\n",
    "'spam'*3"
   ]
  },
  {
   "cell_type": "code",
   "execution_count": 35,
   "id": "326acea1",
   "metadata": {},
   "outputs": [
    {
     "data": {
      "text/plain": [
       "'spamspamspam'"
      ]
     },
     "execution_count": 35,
     "metadata": {},
     "output_type": "execute_result"
    }
   ],
   "source": [
    "'spam' + 'spamspam'\n"
   ]
  },
  {
   "cell_type": "code",
   "execution_count": 36,
   "id": "a1a89125",
   "metadata": {},
   "outputs": [
    {
     "data": {
      "text/plain": [
       "'spamspamspam'"
      ]
     },
     "execution_count": 36,
     "metadata": {},
     "output_type": "execute_result"
    }
   ],
   "source": [
    "'spam'*3"
   ]
  },
  {
   "cell_type": "code",
   "execution_count": null,
   "id": "ace4f4e6",
   "metadata": {},
   "outputs": [],
   "source": [
    "8. Why is eggs a valid variable name while 100 is invalid?"
   ]
  },
  {
   "cell_type": "code",
   "execution_count": null,
   "id": "8e5ceb48",
   "metadata": {},
   "outputs": [],
   "source": [
    "we can not assing variable name as integer value , it can assign alphanumeric (ex = a100, _100)"
   ]
  },
  {
   "cell_type": "code",
   "execution_count": null,
   "id": "d1adb9ed",
   "metadata": {},
   "outputs": [],
   "source": [
    "10. Why does this expression cause an error? How can you fix it?\n",
    "'I have eaten' + 99 + 'burritos'"
   ]
  },
  {
   "cell_type": "code",
   "execution_count": 40,
   "id": "c066494e",
   "metadata": {},
   "outputs": [
    {
     "data": {
      "text/plain": [
       "'I have eaten 99 burritos'"
      ]
     },
     "execution_count": 40,
     "metadata": {},
     "output_type": "execute_result"
    }
   ],
   "source": [
    "'I have eaten' + ' 99 ' + 'burritos'"
   ]
  },
  {
   "cell_type": "code",
   "execution_count": null,
   "id": "9dda9466",
   "metadata": {},
   "outputs": [],
   "source": []
  }
 ],
 "metadata": {
  "kernelspec": {
   "display_name": "Python 3 (ipykernel)",
   "language": "python",
   "name": "python3"
  },
  "language_info": {
   "codemirror_mode": {
    "name": "ipython",
    "version": 3
   },
   "file_extension": ".py",
   "mimetype": "text/x-python",
   "name": "python",
   "nbconvert_exporter": "python",
   "pygments_lexer": "ipython3",
   "version": "3.10.9"
  }
 },
 "nbformat": 4,
 "nbformat_minor": 5
}
